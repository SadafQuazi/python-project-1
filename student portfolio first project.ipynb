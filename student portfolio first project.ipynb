{
 "cells": [
  {
   "cell_type": "markdown",
   "id": "7d0905e1",
   "metadata": {},
   "source": [
    "\n",
    "\n",
    "\n",
    "\n",
    "\n",
    "\n",
    "\n",
    "\n",
    "\n",
    "\n",
    "\n",
    "# Students Portfolio"
   ]
  },
  {
   "cell_type": "code",
   "execution_count": 1,
   "id": "d833f347",
   "metadata": {},
   "outputs": [],
   "source": [
    "#details of college\n",
    "name_of_college = \"junior college\""
   ]
  },
  {
   "cell_type": "code",
   "execution_count": 30,
   "id": "2a92aeb9",
   "metadata": {},
   "outputs": [],
   "source": [
    "nameofstudent = \"rohit jaiswal\""
   ]
  },
  {
   "cell_type": "code",
   "execution_count": 20,
   "id": "b9e44036",
   "metadata": {},
   "outputs": [],
   "source": [
    "firstname = rohit\"\n",
    "lastname = \"jaiswal\""
   ]
  },
  {
   "cell_type": "code",
   "execution_count": null,
   "id": "2e96ba08",
   "metadata": {},
   "outputs": [],
   "source": [
    "standerd = \"12th\""
   ]
  },
  {
   "cell_type": "code",
   "execution_count": 4,
   "id": "a6528e28",
   "metadata": {},
   "outputs": [],
   "source": [
    "#details of subjects \n",
    "sub1 = \"phy\"\n",
    "sub2 = \"chem\"\n",
    "sub3 = \"bio\""
   ]
  },
  {
   "cell_type": "code",
   "execution_count": 45,
   "id": "b910c8ef",
   "metadata": {},
   "outputs": [],
   "source": [
    "#marks obtained by the students \n",
    "sub1m = 50  #50/80\n",
    "sub2m = 60  #60/80\n",
    "sub3m = 40  #40/80\n"
   ]
  },
  {
   "cell_type": "code",
   "execution_count": 50,
   "id": "f94a8079",
   "metadata": {},
   "outputs": [
    {
     "name": "stdout",
     "output_type": "stream",
     "text": [
      "50\n"
     ]
    }
   ],
   "source": [
    "#marks in phy\n",
    "print(sub1)"
   ]
  },
  {
   "cell_type": "code",
   "execution_count": 8,
   "id": "f4343426",
   "metadata": {},
   "outputs": [
    {
     "name": "stdout",
     "output_type": "stream",
     "text": [
      "60\n"
     ]
    }
   ],
   "source": [
    "#marks in chm\n",
    "print(sub2)"
   ]
  },
  {
   "cell_type": "code",
   "execution_count": 9,
   "id": "11726258",
   "metadata": {},
   "outputs": [
    {
     "name": "stdout",
     "output_type": "stream",
     "text": [
      "40\n"
     ]
    }
   ],
   "source": [
    "#marks in bio\n",
    "print(sub3)"
   ]
  },
  {
   "cell_type": "code",
   "execution_count": 10,
   "id": "3178dc49",
   "metadata": {},
   "outputs": [
    {
     "name": "stdout",
     "output_type": "stream",
     "text": [
      "150\n"
     ]
    }
   ],
   "source": [
    "#total number\n",
    "print (sub1 + sub2 + sub3)"
   ]
  },
  {
   "cell_type": "code",
   "execution_count": 14,
   "id": "66cf04d7",
   "metadata": {},
   "outputs": [
    {
     "name": "stdout",
     "output_type": "stream",
     "text": [
      "62.5\n"
     ]
    }
   ],
   "source": [
    "total = 150\n",
    "print(150/240*100)"
   ]
  },
  {
   "cell_type": "code",
   "execution_count": 21,
   "id": "999f776b",
   "metadata": {},
   "outputs": [
    {
     "name": "stdout",
     "output_type": "stream",
     "text": [
      "rohit\n"
     ]
    }
   ],
   "source": [
    "print(firstname)"
   ]
  },
  {
   "cell_type": "code",
   "execution_count": 22,
   "id": "a8144a94",
   "metadata": {},
   "outputs": [
    {
     "name": "stdout",
     "output_type": "stream",
     "text": [
      "jaiswal\n"
     ]
    }
   ],
   "source": [
    "print(lastname)"
   ]
  },
  {
   "cell_type": "code",
   "execution_count": 15,
   "id": "371b349b",
   "metadata": {},
   "outputs": [],
   "source": [
    "#percentage of student\n",
    "percentage = 62.5\n"
   ]
  },
  {
   "cell_type": "code",
   "execution_count": 16,
   "id": "998b2c27",
   "metadata": {},
   "outputs": [
    {
     "name": "stdout",
     "output_type": "stream",
     "text": [
      "62.5\n"
     ]
    }
   ],
   "source": [
    "print (percentage)"
   ]
  },
  {
   "cell_type": "code",
   "execution_count": 17,
   "id": "cc8f50d6",
   "metadata": {},
   "outputs": [
    {
     "name": "stdout",
     "output_type": "stream",
     "text": [
      "150\n"
     ]
    }
   ],
   "source": [
    "print(total)"
   ]
  },
  {
   "cell_type": "code",
   "execution_count": 26,
   "id": "13a9ad0b",
   "metadata": {},
   "outputs": [
    {
     "name": "stdout",
     "output_type": "stream",
     "text": [
      "********************\n"
     ]
    }
   ],
   "source": [
    "print(\"*\"*20)"
   ]
  },
  {
   "cell_type": "code",
   "execution_count": 31,
   "id": "253c5cb3",
   "metadata": {},
   "outputs": [
    {
     "name": "stdout",
     "output_type": "stream",
     "text": [
      "rohit jaiswal\n"
     ]
    }
   ],
   "source": [
    "print(nameofstudent)"
   ]
  },
  {
   "cell_type": "code",
   "execution_count": 40,
   "id": "4f5c2b61",
   "metadata": {},
   "outputs": [
    {
     "name": "stdout",
     "output_type": "stream",
     "text": [
      " the full name of student is rohit jaiswal\n"
     ]
    }
   ],
   "source": [
    "print(\" the full name of student is \" +  nameofstudent)"
   ]
  },
  {
   "cell_type": "code",
   "execution_count": 41,
   "id": "83ea2194",
   "metadata": {},
   "outputs": [
    {
     "name": "stdout",
     "output_type": "stream",
     "text": [
      "the firt name of the student is rohit\n"
     ]
    }
   ],
   "source": [
    "print (\"the firt name of the student is \" + firstname)"
   ]
  },
  {
   "cell_type": "code",
   "execution_count": 42,
   "id": "6d46eca4",
   "metadata": {},
   "outputs": [
    {
     "name": "stdout",
     "output_type": "stream",
     "text": [
      "the surname of the student is jaiswal\n"
     ]
    }
   ],
   "source": [
    "print(\"the surname of the student is \" + lastname  )"
   ]
  },
  {
   "cell_type": "code",
   "execution_count": null,
   "id": "d09750d3",
   "metadata": {},
   "outputs": [],
   "source": []
  }
 ],
 "metadata": {
  "kernelspec": {
   "display_name": "Python 3 (ipykernel)",
   "language": "python",
   "name": "python3"
  },
  "language_info": {
   "codemirror_mode": {
    "name": "ipython",
    "version": 3
   },
   "file_extension": ".py",
   "mimetype": "text/x-python",
   "name": "python",
   "nbconvert_exporter": "python",
   "pygments_lexer": "ipython3",
   "version": "3.9.12"
  }
 },
 "nbformat": 4,
 "nbformat_minor": 5
}
